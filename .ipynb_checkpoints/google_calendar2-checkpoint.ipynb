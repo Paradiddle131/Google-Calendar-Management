{
 "cells": [
  {
   "cell_type": "markdown",
   "metadata": {},
   "source": [
    "# Integrating Google Calendar API in Python Projects\n",
    "\n",
    "![](http://chittagongit.com/download/229209)\n",
    "\n",
    "- [Google Calendar](https://calendar.google.com)\n",
    "\n",
    "- [Google Calendar API](https://developers.google.com/calendar/)\n",
    "\n",
    "- [Google Developers Console](https://console.developers.google.com/)\n",
    "\n",
    "- [Google Calendar API Scopes](https://developers.google.com/calendar/auth)\n",
    "\n",
    "- [Google Calendar API Reference](https://developers.google.com/calendar/v3/reference/)"
   ]
  },
  {
   "cell_type": "markdown",
   "metadata": {},
   "source": [
    "## Installation\n",
    "\n",
    "```\n",
    "pip install google-api-python-client\n",
    "```"
   ]
  },
  {
   "cell_type": "markdown",
   "metadata": {},
   "source": [
    "## OAuth 2.0 Setup"
   ]
  },
  {
   "cell_type": "code",
   "execution_count": 2,
   "metadata": {},
   "outputs": [],
   "source": [
    "from apiclient.discovery import build\n",
    "from google_auth_oauthlib.flow import InstalledAppFlow"
   ]
  },
  {
   "cell_type": "code",
   "execution_count": 3,
   "metadata": {},
   "outputs": [],
   "source": [
    "scopes = ['https://www.googleapis.com/auth/calendar']"
   ]
  },
  {
   "cell_type": "code",
   "execution_count": 4,
   "metadata": {},
   "outputs": [],
   "source": [
    "flow = InstalledAppFlow.from_client_secrets_file(\"credentials.json\", scopes=scopes)"
   ]
  },
  {
   "cell_type": "code",
   "execution_count": 5,
   "metadata": {},
   "outputs": [
    {
     "name": "stdout",
     "output_type": "stream",
     "text": [
      "Please visit this URL to authorize this application: https://accounts.google.com/o/oauth2/auth?response_type=code&client_id=437863611112-vgpkejjqlcjhsitgev7a2soa7j3cr84q.apps.googleusercontent.com&redirect_uri=urn%3Aietf%3Awg%3Aoauth%3A2.0%3Aoob&scope=https%3A%2F%2Fwww.googleapis.com%2Fauth%2Fcalendar&state=1Iy8obyBfdyyDUiqj1khHoyMDIFpML&prompt=consent&access_type=offline&code_challenge=wR2mw2WEJGfHpIxArCFpYN94NUjaO3c1XJjmjvhJy0s&code_challenge_method=S256\n"
     ]
    },
    {
     "name": "stdin",
     "output_type": "stream",
     "text": [
      "Enter the authorization code:  4/rwH_RhK2w4P3beZhJltw0vGIzHmKESSQf0WphYbT0Hb00iMZqVr7q1k\n"
     ]
    }
   ],
   "source": [
    "credentials = flow.run_console()"
   ]
  },
  {
   "cell_type": "code",
   "execution_count": 6,
   "metadata": {},
   "outputs": [],
   "source": [
    "import pickle"
   ]
  },
  {
   "cell_type": "code",
   "execution_count": 7,
   "metadata": {},
   "outputs": [],
   "source": [
    "pickle.dump(credentials, open(\"token.pkl\", \"wb\"))"
   ]
  },
  {
   "cell_type": "code",
   "execution_count": 8,
   "metadata": {},
   "outputs": [],
   "source": [
    "credentials = pickle.load(open(\"token.pkl\", \"rb\"))"
   ]
  },
  {
   "cell_type": "code",
   "execution_count": 9,
   "metadata": {},
   "outputs": [],
   "source": [
    "service = build(\"calendar\", \"v3\", credentials=credentials)"
   ]
  },
  {
   "cell_type": "markdown",
   "metadata": {},
   "source": [
    "## Get My Calendars"
   ]
  },
  {
   "cell_type": "code",
   "execution_count": 10,
   "metadata": {},
   "outputs": [],
   "source": [
    "result = service.calendarList().list().execute()"
   ]
  },
  {
   "cell_type": "code",
   "execution_count": 11,
   "metadata": {},
   "outputs": [
    {
     "data": {
      "text/plain": [
       "{'kind': 'calendar#calendarListEntry',\n",
       " 'etag': '\"1569958195121000\"',\n",
       " 'id': '838caffbgu03mkuh2nt31199b0t75vj4@import.calendar.google.com',\n",
       " 'summary': 'Coursera Calendar - Ensar Erdağ - ebhan96@hotmail.com',\n",
       " 'timeZone': 'UTC',\n",
       " 'colorId': '5',\n",
       " 'backgroundColor': '#ff7537',\n",
       " 'foregroundColor': '#000000',\n",
       " 'selected': True,\n",
       " 'accessRole': 'reader',\n",
       " 'defaultReminders': [],\n",
       " 'conferenceProperties': {'allowedConferenceSolutionTypes': ['eventHangout']}}"
      ]
     },
     "execution_count": 11,
     "metadata": {},
     "output_type": "execute_result"
    }
   ],
   "source": [
    "result['items'][0]"
   ]
  },
  {
   "cell_type": "markdown",
   "metadata": {},
   "source": [
    "## Get My Calendar Events"
   ]
  },
  {
   "cell_type": "code",
   "execution_count": 13,
   "metadata": {},
   "outputs": [],
   "source": [
    "calendar_id = result['items'][0]['id']"
   ]
  },
  {
   "cell_type": "code",
   "execution_count": 14,
   "metadata": {},
   "outputs": [],
   "source": [
    "result = service.events().list(calendarId=calendar_id, timeZone=\"Asia/Kolkata\").execute()"
   ]
  },
  {
   "cell_type": "code",
   "execution_count": 15,
   "metadata": {},
   "outputs": [],
   "source": [
    "# backuop\n",
    "import json\n",
    "\n",
    "with open(\"calendar_backup.txt\", \"w+\") as f:\n",
    "    f.write(json.dumps(result))"
   ]
  },
  {
   "cell_type": "code",
   "execution_count": 16,
   "metadata": {},
   "outputs": [],
   "source": [
    "# with open(\"calendar_backup.txt\", \"r\") as f:\n",
    "#     f.write(json.loads(result))"
   ]
  },
  {
   "cell_type": "code",
   "execution_count": 17,
   "metadata": {},
   "outputs": [
    {
     "data": {
      "text/plain": [
       "{'kind': 'calendar#event',\n",
       " 'etag': '\"3138887159324000\"',\n",
       " 'id': 'qj1i6lq9n1g37so2tnibgln6fo',\n",
       " 'status': 'confirmed',\n",
       " 'htmlLink': 'https://www.google.com/calendar/event?eid=cWoxaTZscTluMWczN3NvMnRuaWJnbG42Zm8gZXJkYWdlbnNhckBt&ctz=Asia/Kolkata',\n",
       " 'created': '2019-09-25T20:32:59.000Z',\n",
       " 'updated': '2019-09-25T20:32:59.748Z',\n",
       " 'summary': 'inzva Deep Learning 9',\n",
       " 'description': 'DeepLearning.ai Study Group 2019-2020',\n",
       " 'location': 'Beykoz Kundura, Yaliköy Mah. Süreyya Ilmen Cad. No:1/1 Beykoz - Istanbul',\n",
       " 'creator': {'email': 'erdagensar@gmail.com', 'self': True},\n",
       " 'organizer': {'email': 'erdagensar@gmail.com', 'self': True},\n",
       " 'start': {'dateTime': '2019-11-30T13:30:00+05:30',\n",
       "  'timeZone': 'Asia/Kolkata'},\n",
       " 'end': {'dateTime': '2019-11-30T19:00:00+05:30', 'timeZone': 'Asia/Kolkata'},\n",
       " 'iCalUID': 'qj1i6lq9n1g37so2tnibgln6fo@google.com',\n",
       " 'sequence': 0,\n",
       " 'reminders': {'useDefault': False,\n",
       "  'overrides': [{'method': 'popup', 'minutes': 1380},\n",
       "   {'method': 'popup', 'minutes': 960}]}}"
      ]
     },
     "execution_count": 17,
     "metadata": {},
     "output_type": "execute_result"
    }
   ],
   "source": [
    "result['items'][-1]"
   ]
  },
  {
   "cell_type": "markdown",
   "metadata": {},
   "source": [
    "## Create a New Calandar Event"
   ]
  },
  {
   "cell_type": "code",
   "execution_count": 18,
   "metadata": {},
   "outputs": [],
   "source": [
    "from datetime import datetime, timedelta"
   ]
  },
  {
   "cell_type": "code",
   "execution_count": 19,
   "metadata": {},
   "outputs": [],
   "source": [
    "start_time = datetime(2019, 5, 12, 19, 30, 0)\n",
    "end_time = start_time + timedelta(hours=4)\n",
    "timezone = 'Asia/Kolkata'"
   ]
  },
  {
   "cell_type": "code",
   "execution_count": 20,
   "metadata": {
    "jupyter": {
     "source_hidden": true
    }
   },
   "outputs": [],
   "source": [
    "'''\n",
    "dates = {\n",
    "    1: '9/28/2019',\n",
    "    2: '10/5/2019',\n",
    "    3: '10/12/2019',\n",
    "    4: '10/19/2019',\n",
    "    5: '10/26/2019',\n",
    "    6: '11/2/2019',\n",
    "    7: '11/16/2019',\n",
    "    8: '11/23/2019',\n",
    "    9: '11/30/2019',\n",
    "    10: '12/7/2019',\n",
    "    11: '12/14/2019',\n",
    "    12: '12/21/2019'\n",
    "}\n",
    "'''"
   ]
  },
  {
   "cell_type": "code",
   "execution_count": 21,
   "metadata": {},
   "outputs": [],
   "source": [
    "descriptions = {\n",
    "    1: 'Deeplearning meetup/Introduction to deep learning, Neural Networks Basics',\n",
    "    2: 'Shallow neural networks',\n",
    "    3: 'Deep Neural Networks',\n",
    "    4: 'Practical aspects of Deep Learning',\n",
    "    5: 'Optimization algorithms, Hyperparameter tuning, Batch Normalization and Programming Frameworks',\n",
    "    6: 'ML Strategy (1) and ML Strategy (2)',\n",
    "    7: 'Foundations of Convolutional Neural Networks',\n",
    "    8: 'Deep convolutional models: case studies',\n",
    "    9: 'Object detection, Special applications: Face recognition & Neural style transfer',\n",
    "    10: 'Recurrent Neural Networks',\n",
    "    11: 'Natural Language Processing & Word Embeddings',\n",
    "    12: 'Sequence models & Attention mechanism'\n",
    "}"
   ]
  },
  {
   "cell_type": "code",
   "execution_count": 1,
   "metadata": {},
   "outputs": [],
   "source": [
    "dates = {\n",
    "    1: '10/3/2019',\n",
    "    2: '10/10/2019',\n",
    "    3: '10/17/2019',\n",
    "    4: '10/24/2019',\n",
    "    5: '10/31/2019',\n",
    "    6: '11/7/2019',\n",
    "    7: '11/14/2019',\n",
    "    8: '11/21/2019',\n",
    "    9: '11/28/2019',\n",
    "    10: '12/5/2019',\n",
    "    11: '12/12/2019',\n",
    "    12: '12/19/2019',\n",
    "    13: '12/26/2019',\n",
    "    14: '1/2/2020',\n",
    "    15: '1/9/2020',\n",
    "    16: '1/16/2020'\n",
    "}"
   ]
  },
  {
   "cell_type": "code",
   "execution_count": null,
   "metadata": {},
   "outputs": [],
   "source": [
    "descriptions = {\n",
    "    1: '1. Hafta - Arastirma ve Gelistirme Odakli Yapay Zeka Egitimi',\n",
    "    2: '2. Hafta - Arastirma ve Gelistirme Odakli Yapay Zeka Egitimi',\n",
    "    3: '3. Hafta - Arastirma ve Gelistirme Odakli Yapay Zeka Egitimi',\n",
    "    4: '4. Hafta - Arastirma ve Gelistirme Odakli Yapay Zeka Egitimi',\n",
    "    5: '5. Hafta - Arastirma ve Gelistirme Odakli Yapay Zeka Egitimi',\n",
    "    6: '6. Hafta - Arastirma ve Gelistirme Odakli Yapay Zeka Egitimi',\n",
    "    7: '7. Hafta - Arastirma ve Gelistirme Odakli Yapay Zeka Egitimi',\n",
    "    8: '8. Hafta - Arastirma ve Gelistirme Odakli Yapay Zeka Egitimi',\n",
    "    9: '9. Hafta - Arastirma ve Gelistirme Odakli Yapay Zeka Egitimi',\n",
    "    10: '10. Hafta - Arastirma ve Gelistirme Odakli Yapay Zeka Egitimi',\n",
    "    11: '11. Hafta - Arastirma ve Gelistirme Odakli Yapay Zeka Egitimi',\n",
    "    12: '12. Hafta - Arastirma ve Gelistirme Odakli Yapay Zeka Egitimi',\n",
    "    13: '13. Hafta - Arastirma ve Gelistirme Odakli Yapay Zeka Egitimi',\n",
    "    14: '14. Hafta - Arastirma ve Gelistirme Odakli Yapay Zeka Egitimi',\n",
    "    15: '15. Hafta - Arastirma ve Gelistirme Odakli Yapay Zeka Egitimi',\n",
    "    16: '16. Hafta - Arastirma ve Gelistirme Odakli Yapay Zeka Egitimi'\n",
    "}"
   ]
  },
  {
   "cell_type": "code",
   "execution_count": 22,
   "metadata": {},
   "outputs": [],
   "source": [
    "def create(amount=1):\n",
    "    for i in range(1, amount+1):\n",
    "        mo = int(dates.get(i).split('/')[0])\n",
    "        d = int(dates.get(i).split('/')[1])\n",
    "        y = int(dates.get(i).split('/')[2])\n",
    "        h = 11\n",
    "        m = 0\n",
    "        start_time = datetime(y, mo, d, h+2, m+30, 0)\n",
    "        end_time = start_time + timedelta(hours=5.5)\n",
    "        event = {\n",
    "          'summary': 'inzva Deep Learning {}'.format(i),\n",
    "          'location': 'Beykoz Kundura, Yaliköy Mah. Süreyya Ilmen Cad. No:1/1 Beykoz - Istanbul',\n",
    "          'description': descriptions.get(i) + '\\n' + 'DeepLearning.ai Study Group 2019-2020',\n",
    "          'start': {\n",
    "            'dateTime': start_time.strftime(\"%Y-%m-%dT%H:%M:%S\"),\n",
    "            'timeZone': timezone,\n",
    "          },\n",
    "          'end': {\n",
    "            'dateTime': end_time.strftime(\"%Y-%m-%dT%H:%M:%S\"),\n",
    "            'timeZone': timezone,\n",
    "          },\n",
    "          'reminders': {\n",
    "            'useDefault': False,\n",
    "            'overrides': [\n",
    "              {'method': 'popup', 'minutes': 23*60},\n",
    "              {'method': 'popup', 'minutes': 16*60},\n",
    "            ],\n",
    "          },\n",
    "        }\n",
    "        service.events().insert(calendarId=calendar_id, body=event).execute()\n",
    "def delete(amount=1):\n",
    "    result = service.events().list(calendarId=calendar_id, timeZone=\"Asia/Kolkata\").execute()\n",
    "    for i in range(1, amount+1):\n",
    "        print(result['items'][-i].get('summary'))\n",
    "    sure = input('Are you sure to delete above events? (y/n)')\n",
    "    if sure == 'y':\n",
    "        print('Alright, deleting.')\n",
    "        for i in range(1, amount+1):\n",
    "            service.events().delete(calendarId=calendar_id, eventId=result['items'][-i].get('id')).execute()\n",
    "    else:\n",
    "        print('Alright, cancelled.')"
   ]
  },
  {
   "cell_type": "code",
   "execution_count": 27,
   "metadata": {},
   "outputs": [],
   "source": [
    "create(12)"
   ]
  },
  {
   "cell_type": "code",
   "execution_count": 33,
   "metadata": {},
   "outputs": [
    {
     "name": "stdout",
     "output_type": "stream",
     "text": [
      "Binance Istanbul Meetup\n",
      "Sanal Quiz3\n",
      "Sanal Quiz2\n",
      "Sanal MT\n",
      "Sanal Quiz1\n",
      "deeplearning.ai Pie & AI: Istanbul\n",
      "AWS Demo Sessions\n",
      "Python Saati #98 - Unconference\n",
      "Get Product Recommendations in an Interactive Web Application\n",
      "Python Saati #97 - The Map of Computer Science Landscape\n",
      "Python Saati #96 - Unconference\n",
      "Python Saati #95 - Unconference\n"
     ]
    },
    {
     "name": "stdin",
     "output_type": "stream",
     "text": [
      "Are you sure to delete above events? (y/n) q\n"
     ]
    },
    {
     "name": "stdout",
     "output_type": "stream",
     "text": [
      "Alright, cancelled.\n"
     ]
    }
   ],
   "source": [
    "delete(12)"
   ]
  }
 ],
 "metadata": {
  "kernelspec": {
   "display_name": "Python 3",
   "language": "python",
   "name": "python3"
  },
  "language_info": {
   "codemirror_mode": {
    "name": "ipython",
    "version": 3
   },
   "file_extension": ".py",
   "mimetype": "text/x-python",
   "name": "python",
   "nbconvert_exporter": "python",
   "pygments_lexer": "ipython3",
   "version": "3.7.3"
  }
 },
 "nbformat": 4,
 "nbformat_minor": 4
}
